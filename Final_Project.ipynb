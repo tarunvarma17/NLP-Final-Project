{
 "cells": [
  {
   "cell_type": "markdown",
   "id": "0436e47a",
   "metadata": {},
   "source": [
    "<h1><center>Final Project</center></h1>"
   ]
  },
  {
   "cell_type": "markdown",
   "id": "7a28fc07",
   "metadata": {},
   "source": [
    "<div style=\"text-align: right\"> Tarun Varma - QZ55613 </div>\n",
    "<div style=\"text-align: right\"> Faisal Rasheed Khan - VB02734 </div>\n",
    "<div style=\"text-align: right\"> Rohith Reddy Mada - IO15211 </div>\n",
    "<div style=\"text-align: right\"> Maitri Hemant Mistry - DQ13213 </div>"
   ]
  },
  {
   "cell_type": "markdown",
   "id": "95aa1072",
   "metadata": {},
   "source": [
    "### Cleaning the Data"
   ]
  },
  {
   "cell_type": "code",
   "execution_count": 1,
   "id": "e62fe73f",
   "metadata": {},
   "outputs": [],
   "source": [
    "import pandas as pd"
   ]
  },
  {
   "cell_type": "code",
   "execution_count": 2,
   "id": "3fd7cda4",
   "metadata": {},
   "outputs": [],
   "source": [
    "df = pd.read_csv(\"ECommerce-Data.csv\")"
   ]
  },
  {
   "cell_type": "code",
   "execution_count": 3,
   "id": "82e8170a",
   "metadata": {},
   "outputs": [
    {
     "data": {
      "text/html": [
       "<div>\n",
       "<style scoped>\n",
       "    .dataframe tbody tr th:only-of-type {\n",
       "        vertical-align: middle;\n",
       "    }\n",
       "\n",
       "    .dataframe tbody tr th {\n",
       "        vertical-align: top;\n",
       "    }\n",
       "\n",
       "    .dataframe thead th {\n",
       "        text-align: right;\n",
       "    }\n",
       "</style>\n",
       "<table border=\"1\" class=\"dataframe\">\n",
       "  <thead>\n",
       "    <tr style=\"text-align: right;\">\n",
       "      <th></th>\n",
       "      <th>Household</th>\n",
       "      <th>Paper Plane Design Framed Wall Hanging Motivational Office Decor Art Prints (8.7 X 8.7 inch) - Set of 4 Painting made up in synthetic frame with uv textured print which gives multi effects and attracts towards it. This is an special series of paintings which makes your wall very beautiful and gives a royal touch. This painting is ready to hang, you would be proud to possess this unique painting that is a niche apart. We use only the most modern and efficient printing technology on our prints, with only the and inks and precision epson, roland and hp printers. This innovative hd printing technique results in durable and spectacular looking prints of the highest that last a lifetime. We print solely with top-notch 100% inks, to achieve brilliant and true colours. Due to their high level of uv resistance, our prints retain their beautiful colours for many years. Add colour and style to your living space with this digitally printed painting. Some are for pleasure and some for eternal bliss.so bring home this elegant print that is lushed with rich colors that makes it nothing but sheer elegance to be to your friends and family.it would be treasured forever by whoever your lucky recipient is. Liven up your place with these intriguing paintings that are high definition hd graphic digital prints for home, office or any room.</th>\n",
       "    </tr>\n",
       "  </thead>\n",
       "  <tbody>\n",
       "    <tr>\n",
       "      <th>0</th>\n",
       "      <td>Clothing &amp; Accessories</td>\n",
       "      <td>TRYSCO Casual Genuine Leather Slim Girls Belt ...</td>\n",
       "    </tr>\n",
       "    <tr>\n",
       "      <th>1</th>\n",
       "      <td>Household</td>\n",
       "      <td>Cloth Fusion Cotton Table Linen Set of 14 Pc (...</td>\n",
       "    </tr>\n",
       "    <tr>\n",
       "      <th>2</th>\n",
       "      <td>Electronics</td>\n",
       "      <td>Tarkan Ultra Slim Mono Fan Portable Cooling Pa...</td>\n",
       "    </tr>\n",
       "  </tbody>\n",
       "</table>\n",
       "</div>"
      ],
      "text/plain": [
       "                Household  \\\n",
       "0  Clothing & Accessories   \n",
       "1               Household   \n",
       "2             Electronics   \n",
       "\n",
       "  Paper Plane Design Framed Wall Hanging Motivational Office Decor Art Prints (8.7 X 8.7 inch) - Set of 4 Painting made up in synthetic frame with uv textured print which gives multi effects and attracts towards it. This is an special series of paintings which makes your wall very beautiful and gives a royal touch. This painting is ready to hang, you would be proud to possess this unique painting that is a niche apart. We use only the most modern and efficient printing technology on our prints, with only the and inks and precision epson, roland and hp printers. This innovative hd printing technique results in durable and spectacular looking prints of the highest that last a lifetime. We print solely with top-notch 100% inks, to achieve brilliant and true colours. Due to their high level of uv resistance, our prints retain their beautiful colours for many years. Add colour and style to your living space with this digitally printed painting. Some are for pleasure and some for eternal bliss.so bring home this elegant print that is lushed with rich colors that makes it nothing but sheer elegance to be to your friends and family.it would be treasured forever by whoever your lucky recipient is. Liven up your place with these intriguing paintings that are high definition hd graphic digital prints for home, office or any room.  \n",
       "0  TRYSCO Casual Genuine Leather Slim Girls Belt ...                                                                                                                                                                                                                                                                                                                                                                                                                                                                                                                                                                                                                                                                                                                                                                                                                                                                                                                                                                                                                                                                                                                                                                                                                                                                                                                                          \n",
       "1  Cloth Fusion Cotton Table Linen Set of 14 Pc (...                                                                                                                                                                                                                                                                                                                                                                                                                                                                                                                                                                                                                                                                                                                                                                                                                                                                                                                                                                                                                                                                                                                                                                                                                                                                                                                                          \n",
       "2  Tarkan Ultra Slim Mono Fan Portable Cooling Pa...                                                                                                                                                                                                                                                                                                                                                                                                                                                                                                                                                                                                                                                                                                                                                                                                                                                                                                                                                                                                                                                                                                                                                                                                                                                                                                                                          "
      ]
     },
     "execution_count": 3,
     "metadata": {},
     "output_type": "execute_result"
    }
   ],
   "source": [
    "df.head(3)"
   ]
  },
  {
   "cell_type": "markdown",
   "id": "357ec0ba",
   "metadata": {},
   "source": [
    "Here, we can see that what should be the first row is instead being treated as the column headers. We can fix this by simply renaming the columns."
   ]
  },
  {
   "cell_type": "code",
   "execution_count": 4,
   "id": "df9424c3",
   "metadata": {},
   "outputs": [],
   "source": [
    "df[\"Label\"] = df[\"Household\"]\n",
    "df[\"Product Data\"] = df[\"Paper Plane Design Framed Wall Hanging Motivational Office Decor Art Prints (8.7 X 8.7 inch) - Set of 4 Painting made up in synthetic frame with uv textured print which gives multi effects and attracts towards it. This is an special series of paintings which makes your wall very beautiful and gives a royal touch. This painting is ready to hang, you would be proud to possess this unique painting that is a niche apart. We use only the most modern and efficient printing technology on our prints, with only the and inks and precision epson, roland and hp printers. This innovative hd printing technique results in durable and spectacular looking prints of the highest that last a lifetime. We print solely with top-notch 100% inks, to achieve brilliant and true colours. Due to their high level of uv resistance, our prints retain their beautiful colours for many years. Add colour and style to your living space with this digitally printed painting. Some are for pleasure and some for eternal bliss.so bring home this elegant print that is lushed with rich colors that makes it nothing but sheer elegance to be to your friends and family.it would be treasured forever by whoever your lucky recipient is. Liven up your place with these intriguing paintings that are high definition hd graphic digital prints for home, office or any room.\"] "
   ]
  },
  {
   "cell_type": "code",
   "execution_count": 5,
   "id": "6ad0b125",
   "metadata": {},
   "outputs": [],
   "source": [
    "df.drop(columns=['Household', 'Paper Plane Design Framed Wall Hanging Motivational Office Decor Art Prints (8.7 X 8.7 inch) - Set of 4 Painting made up in synthetic frame with uv textured print which gives multi effects and attracts towards it. This is an special series of paintings which makes your wall very beautiful and gives a royal touch. This painting is ready to hang, you would be proud to possess this unique painting that is a niche apart. We use only the most modern and efficient printing technology on our prints, with only the and inks and precision epson, roland and hp printers. This innovative hd printing technique results in durable and spectacular looking prints of the highest that last a lifetime. We print solely with top-notch 100% inks, to achieve brilliant and true colours. Due to their high level of uv resistance, our prints retain their beautiful colours for many years. Add colour and style to your living space with this digitally printed painting. Some are for pleasure and some for eternal bliss.so bring home this elegant print that is lushed with rich colors that makes it nothing but sheer elegance to be to your friends and family.it would be treasured forever by whoever your lucky recipient is. Liven up your place with these intriguing paintings that are high definition hd graphic digital prints for home, office or any room.'], inplace=True)"
   ]
  },
  {
   "cell_type": "code",
   "execution_count": 6,
   "id": "b887ee66",
   "metadata": {},
   "outputs": [
    {
     "data": {
      "text/html": [
       "<div>\n",
       "<style scoped>\n",
       "    .dataframe tbody tr th:only-of-type {\n",
       "        vertical-align: middle;\n",
       "    }\n",
       "\n",
       "    .dataframe tbody tr th {\n",
       "        vertical-align: top;\n",
       "    }\n",
       "\n",
       "    .dataframe thead th {\n",
       "        text-align: right;\n",
       "    }\n",
       "</style>\n",
       "<table border=\"1\" class=\"dataframe\">\n",
       "  <thead>\n",
       "    <tr style=\"text-align: right;\">\n",
       "      <th></th>\n",
       "      <th>Label</th>\n",
       "      <th>Product Data</th>\n",
       "    </tr>\n",
       "  </thead>\n",
       "  <tbody>\n",
       "    <tr>\n",
       "      <th>0</th>\n",
       "      <td>Clothing &amp; Accessories</td>\n",
       "      <td>TRYSCO Casual Genuine Leather Slim Girls Belt ...</td>\n",
       "    </tr>\n",
       "    <tr>\n",
       "      <th>1</th>\n",
       "      <td>Household</td>\n",
       "      <td>Cloth Fusion Cotton Table Linen Set of 14 Pc (...</td>\n",
       "    </tr>\n",
       "    <tr>\n",
       "      <th>2</th>\n",
       "      <td>Electronics</td>\n",
       "      <td>Tarkan Ultra Slim Mono Fan Portable Cooling Pa...</td>\n",
       "    </tr>\n",
       "  </tbody>\n",
       "</table>\n",
       "</div>"
      ],
      "text/plain": [
       "                    Label                                       Product Data\n",
       "0  Clothing & Accessories  TRYSCO Casual Genuine Leather Slim Girls Belt ...\n",
       "1               Household  Cloth Fusion Cotton Table Linen Set of 14 Pc (...\n",
       "2             Electronics  Tarkan Ultra Slim Mono Fan Portable Cooling Pa..."
      ]
     },
     "execution_count": 6,
     "metadata": {},
     "output_type": "execute_result"
    }
   ],
   "source": [
    "df.head(3)"
   ]
  },
  {
   "cell_type": "markdown",
   "id": "6320282f",
   "metadata": {},
   "source": [
    "Now, our next task should be to check if there are any null values in Label or Product Data field. If there are, we can drop these from the dataframe"
   ]
  },
  {
   "cell_type": "code",
   "execution_count": 7,
   "id": "55776ff5",
   "metadata": {},
   "outputs": [
    {
     "data": {
      "text/plain": [
       "Label           0\n",
       "Product Data    1\n",
       "dtype: int64"
      ]
     },
     "execution_count": 7,
     "metadata": {},
     "output_type": "execute_result"
    }
   ],
   "source": [
    "df.isna().sum()"
   ]
  },
  {
   "cell_type": "code",
   "execution_count": 8,
   "id": "09f79be8",
   "metadata": {},
   "outputs": [],
   "source": [
    "df.dropna(inplace = True)"
   ]
  },
  {
   "cell_type": "code",
   "execution_count": 9,
   "id": "8b9e3848",
   "metadata": {},
   "outputs": [
    {
     "data": {
      "text/plain": [
       "Label           0\n",
       "Product Data    0\n",
       "dtype: int64"
      ]
     },
     "execution_count": 9,
     "metadata": {},
     "output_type": "execute_result"
    }
   ],
   "source": [
    "df.isna().sum()"
   ]
  },
  {
   "cell_type": "markdown",
   "id": "45a60da9",
   "metadata": {},
   "source": [
    "Lets observe the size of the dataframe"
   ]
  },
  {
   "cell_type": "code",
   "execution_count": 10,
   "id": "94140f77",
   "metadata": {},
   "outputs": [
    {
     "data": {
      "text/plain": [
       "(12605, 2)"
      ]
     },
     "execution_count": 10,
     "metadata": {},
     "output_type": "execute_result"
    }
   ],
   "source": [
    "df.shape"
   ]
  },
  {
   "cell_type": "markdown",
   "id": "b49fb4de",
   "metadata": {},
   "source": [
    "Lastly, lets look at the distribution of Labels in the dataframe"
   ]
  },
  {
   "cell_type": "code",
   "execution_count": 11,
   "id": "ff40ffd7",
   "metadata": {},
   "outputs": [
    {
     "data": {
      "text/plain": [
       "Household                 0.383023\n",
       "Books                     0.234431\n",
       "Electronics               0.210631\n",
       "Clothing & Accessories    0.171916\n",
       "Name: Label, dtype: float64"
      ]
     },
     "execution_count": 11,
     "metadata": {},
     "output_type": "execute_result"
    }
   ],
   "source": [
    "df[\"Label\"].value_counts(1)"
   ]
  },
  {
   "cell_type": "markdown",
   "id": "89a4ea30",
   "metadata": {},
   "source": [
    "From this, we can see that the data is slightly unbalanced, but not heavily so. When it comes to choosing a metric to evaluate the model, accuracy may not be the best way to go. We should focus on the F1 score as well. "
   ]
  },
  {
   "cell_type": "markdown",
   "id": "784a0c4d",
   "metadata": {},
   "source": [
    "### Getting BERT and Word2Vec Embeddings"
   ]
  },
  {
   "cell_type": "code",
   "execution_count": 12,
   "id": "7b8def80",
   "metadata": {},
   "outputs": [],
   "source": [
    "#BERT Embeddings\n",
    "from transformers import BertTokenizer, BertModel\n",
    "import torch\n",
    "import cupy as cp\n",
    "import numpy as np\n",
    "\n",
    "device = \"cuda:0\" if torch.cuda.is_available() else \"cpu\"\n",
    "# print(device)\n",
    "\n",
    "tokenizer = BertTokenizer.from_pretrained('bert-base-uncased')\n",
    "model = BertModel.from_pretrained('bert-base-uncased')\n",
    "\n",
    "model     = model.to(device)\n",
    "\n",
    "paragraphs = df['Product Data'].astype(str).tolist() #This stores all the product data in a list\n",
    "embeddings = []\n",
    "\n",
    "for paragraph in paragraphs:\n",
    "    inputs = tokenizer(paragraph, return_tensors='pt', padding=True, truncation=True).to(device)\n",
    "    with torch.no_grad():\n",
    "        outputs = model(**inputs) #Referred discuss.huggingface for this part\n",
    "#https://discuss.huggingface.co/t/generate-raw-word-embeddings-using-transformer-models-like-bert-for-downstream-process/2958\n",
    "    paragraph_embedding = outputs.last_hidden_state[:, 0, :].cpu().numpy()\n",
    "    embeddings.append(paragraph_embedding)\n",
    "\n",
    "df['BERT Embeddings'] = embeddings"
   ]
  },
  {
   "cell_type": "code",
   "execution_count": 13,
   "id": "a74c0319",
   "metadata": {},
   "outputs": [
    {
     "name": "stderr",
     "output_type": "stream",
     "text": [
      "[nltk_data] Downloading package punkt to /home/rohan/nltk_data...\n",
      "[nltk_data]   Package punkt is already up-to-date!\n"
     ]
    }
   ],
   "source": [
    "#Word2Vec Embeddings\n",
    "from gensim.models import Word2Vec\n",
    "from nltk.tokenize import word_tokenize\n",
    "\n",
    "import nltk\n",
    "nltk.download('punkt')\n",
    "\n",
    "tokenized_paragraphs = [word_tokenize(para.lower()) for para in paragraphs]\n",
    "word2vec_model = Word2Vec(sentences=tokenized_paragraphs, vector_size=100, window=5, min_count=1, sg=0)\n",
    "#For above lines, took help from stack overflow\n",
    "#https://stackoverflow.com/questions/71429127/how-to-apply-word2vec-to-dataframe-column\n",
    "\n",
    "def generate_word2vec_embeddings(document):\n",
    "    words = word_tokenize(document.lower())\n",
    "    embeddings = [word2vec_model.wv[word] for word in words if word in word2vec_model.wv]\n",
    "    return embeddings\n",
    "\n",
    "word2vec_embeddings = [generate_word2vec_embeddings(para) for para in paragraphs]\n",
    "df['Word2Vec Embeddings'] = word2vec_embeddings"
   ]
  },
  {
   "cell_type": "code",
   "execution_count": 14,
   "id": "92b97cad",
   "metadata": {},
   "outputs": [
    {
     "data": {
      "text/html": [
       "<div>\n",
       "<style scoped>\n",
       "    .dataframe tbody tr th:only-of-type {\n",
       "        vertical-align: middle;\n",
       "    }\n",
       "\n",
       "    .dataframe tbody tr th {\n",
       "        vertical-align: top;\n",
       "    }\n",
       "\n",
       "    .dataframe thead th {\n",
       "        text-align: right;\n",
       "    }\n",
       "</style>\n",
       "<table border=\"1\" class=\"dataframe\">\n",
       "  <thead>\n",
       "    <tr style=\"text-align: right;\">\n",
       "      <th></th>\n",
       "      <th>Label</th>\n",
       "      <th>Product Data</th>\n",
       "      <th>BERT Embeddings</th>\n",
       "      <th>Word2Vec Embeddings</th>\n",
       "    </tr>\n",
       "  </thead>\n",
       "  <tbody>\n",
       "    <tr>\n",
       "      <th>0</th>\n",
       "      <td>Clothing &amp; Accessories</td>\n",
       "      <td>TRYSCO Casual Genuine Leather Slim Girls Belt ...</td>\n",
       "      <td>[[-0.10176195, -0.79533064, 0.22960415, -0.031...</td>\n",
       "      <td>[[-0.009227599, 0.0036671774, 0.008923487, 0.0...</td>\n",
       "    </tr>\n",
       "    <tr>\n",
       "      <th>1</th>\n",
       "      <td>Household</td>\n",
       "      <td>Cloth Fusion Cotton Table Linen Set of 14 Pc (...</td>\n",
       "      <td>[[-0.93849474, -0.8247274, 0.30506644, -0.4215...</td>\n",
       "      <td>[[-1.2212818, 0.36776692, 1.1208278, 0.8710736...</td>\n",
       "    </tr>\n",
       "    <tr>\n",
       "      <th>2</th>\n",
       "      <td>Electronics</td>\n",
       "      <td>Tarkan Ultra Slim Mono Fan Portable Cooling Pa...</td>\n",
       "      <td>[[-0.99008554, -0.10183348, 0.23847538, -0.287...</td>\n",
       "      <td>[[-0.025184345, 0.046211857, 0.13333406, -0.03...</td>\n",
       "    </tr>\n",
       "  </tbody>\n",
       "</table>\n",
       "</div>"
      ],
      "text/plain": [
       "                    Label                                       Product Data  \\\n",
       "0  Clothing & Accessories  TRYSCO Casual Genuine Leather Slim Girls Belt ...   \n",
       "1               Household  Cloth Fusion Cotton Table Linen Set of 14 Pc (...   \n",
       "2             Electronics  Tarkan Ultra Slim Mono Fan Portable Cooling Pa...   \n",
       "\n",
       "                                     BERT Embeddings  \\\n",
       "0  [[-0.10176195, -0.79533064, 0.22960415, -0.031...   \n",
       "1  [[-0.93849474, -0.8247274, 0.30506644, -0.4215...   \n",
       "2  [[-0.99008554, -0.10183348, 0.23847538, -0.287...   \n",
       "\n",
       "                                 Word2Vec Embeddings  \n",
       "0  [[-0.009227599, 0.0036671774, 0.008923487, 0.0...  \n",
       "1  [[-1.2212818, 0.36776692, 1.1208278, 0.8710736...  \n",
       "2  [[-0.025184345, 0.046211857, 0.13333406, -0.03...  "
      ]
     },
     "execution_count": 14,
     "metadata": {},
     "output_type": "execute_result"
    }
   ],
   "source": [
    "df.head(3)"
   ]
  },
  {
   "cell_type": "markdown",
   "id": "68937095",
   "metadata": {},
   "source": [
    "From above, we can see that the BERT Embeddings and Word2Vec embeddings have been appended to the dataframe. We can not perform the same with TF-IDF and Count Vectorizers just yet, as this task needs to be performed separately for the train and test splits. For the train we need to do a fit_transform, while for the test we need to just do transform."
   ]
  },
  {
   "cell_type": "markdown",
   "id": "49050f9a",
   "metadata": {},
   "source": [
    "### Getting the train-test split"
   ]
  },
  {
   "cell_type": "code",
   "execution_count": 15,
   "id": "78d362eb",
   "metadata": {},
   "outputs": [],
   "source": [
    "from sklearn.model_selection import train_test_split\n",
    "from cuml.common.device_selection import set_global_device_type\n",
    "# from sklearn.decomposition import PCA\n",
    "from cuml.decomposition import PCA, IncrementalPCA\n",
    "from sklearn.feature_extraction.text import TfidfVectorizer, CountVectorizer\n",
    "import cudf\n",
    "from sklearn.preprocessing import LabelEncoder\n",
    "\n",
    "set_global_device_type('GPU')"
   ]
  },
  {
   "cell_type": "markdown",
   "id": "d5cfe46d",
   "metadata": {},
   "source": [
    "There is a special case for the Word2Vec column. Unlike BERT, which provides a (1, 768) vector for each product data, Word2Vec outputs a list of arrays of shape (100,). So, we want to flatten this out. But for computational reasons we were unable to, and instead replaced each array with its mean."
   ]
  },
  {
   "cell_type": "code",
   "execution_count": 18,
   "id": "c12105bd",
   "metadata": {},
   "outputs": [],
   "source": [
    "def get_splits(embedding):\n",
    "    le = LabelEncoder()\n",
    "    if embedding == \"BERT Embeddings\":\n",
    "        X = df[embedding].apply(lambda x: x.flatten()) #Flattens the df into 768 columns\n",
    "        X = X.apply(pd.Series)\n",
    "    elif embedding == \"Word2Vec Embeddings\":\n",
    "        X = df[embedding].apply(pd.Series) \n",
    "        mean_array = X.applymap(lambda arr: np.mean(arr)).values\n",
    "        X = pd.DataFrame(mean_array) \n",
    "        X = X.fillna(0)\n",
    "        y = df['Label']\n",
    "        X_train, X_test, y_train, y_test = train_test_split(X, y, test_size=0.2, random_state=17)\n",
    "        y_train = le.fit_transform(y_train)\n",
    "        y_test = le.fit_transform(y_test)\n",
    "        return X_train, X_test, y_train, y_test\n",
    "    elif embedding == \"TF-IDF Embeddings\":\n",
    "        X_train, X_test, y_train, y_test = train_test_split(df['Product Data'], df['Label'], test_size=0.2, random_state=123)\n",
    "        tf = TfidfVectorizer()\n",
    "        X_train_vec = tf.fit_transform(X_train) #Fit transform on training data\n",
    "        X_test_vec = tf.transform(X_test) #Transform on test data\n",
    "        X_train = pd.DataFrame(X_train_vec.toarray(), columns=tf.get_feature_names_out())\n",
    "        X_test = pd.DataFrame(X_test_vec.toarray(), columns=tf.get_feature_names_out())\n",
    "        X_train_cudf = cudf.DataFrame.from_pandas(X_train)\n",
    "        X_test_cudf = cudf.DataFrame.from_pandas(X_test)\n",
    "        pca = IncrementalPCA(n_components=500, output_type='cupy') \n",
    "        X_train_cupy = pca.fit_transform(X_train_cudf)\n",
    "        X_test_cupy = pca.transform(X_test_cudf)\n",
    "        X_train_arr = X_train_cupy.get()\n",
    "        X_test_arr = X_test_cupy.get()\n",
    "        X_train = pd.DataFrame(X_train_arr)\n",
    "        X_test = pd.DataFrame(X_test_arr)\n",
    "        y_train = le.fit_transform(y_train)\n",
    "        y_test = le.fit_transform(y_test)\n",
    "        return X_train, X_test, y_train, y_test\n",
    "    else:\n",
    "        X_train, X_test, y_train, y_test = train_test_split(df['Product Data'], df['Label'], test_size=0.2, random_state=1234)\n",
    "        cv = CountVectorizer()\n",
    "        X_train_vec = cv.fit_transform(X_train)\n",
    "        X_test_vec = cv.transform(X_test)\n",
    "        X_train = pd.DataFrame(X_train_vec.toarray(), columns=cv.get_feature_names_out())\n",
    "        X_test = pd.DataFrame(X_test_vec.toarray(), columns=cv.get_feature_names_out()) #Similar to TFIDF\n",
    "        X_train = X_train.astype(float)  #cuML models require input datatype to be float and not int\n",
    "        X_test = X_test.astype(float)   \n",
    "        X_train_cudf = cudf.DataFrame.from_pandas(X_train)\n",
    "        X_test_cudf = cudf.DataFrame.from_pandas(X_test)\n",
    "        pca = IncrementalPCA(n_components=500,  output_type='cupy') \n",
    "        X_train_cupy = pca.fit_transform(X_train_cudf)\n",
    "        X_test_cupy = pca.transform(X_test_cudf)\n",
    "        X_train_arr = X_train_cupy.get()\n",
    "        X_test_arr = X_test_cupy.get()\n",
    "        X_train = pd.DataFrame(X_train_arr)\n",
    "        X_test = pd.DataFrame(X_test_arr)\n",
    "        y_train = le.fit_transform(y_train)\n",
    "        y_test = le.fit_transform(y_test)\n",
    "        return X_train, X_test, y_train, y_test\n",
    "    y = df['Label']\n",
    "    X_train, X_test, y_train, y_test = train_test_split(X, y, test_size=0.2, random_state=17)\n",
    "    y_train = le.fit_transform(y_train)\n",
    "    y_test = le.fit_transform(y_test)\n",
    "    return X_train, X_test, y_train, y_test"
   ]
  },
  {
   "cell_type": "markdown",
   "id": "e8273209",
   "metadata": {},
   "source": [
    "Lets test this out for a random embeddings. Say BERT"
   ]
  },
  {
   "cell_type": "code",
   "execution_count": 19,
   "id": "5c691355",
   "metadata": {},
   "outputs": [],
   "source": [
    "X_train, X_test, y_train, y_test = get_splits('BERT Embeddings')"
   ]
  },
  {
   "cell_type": "code",
   "execution_count": 20,
   "id": "7a3e1676",
   "metadata": {},
   "outputs": [
    {
     "data": {
      "text/html": [
       "<div>\n",
       "<style scoped>\n",
       "    .dataframe tbody tr th:only-of-type {\n",
       "        vertical-align: middle;\n",
       "    }\n",
       "\n",
       "    .dataframe tbody tr th {\n",
       "        vertical-align: top;\n",
       "    }\n",
       "\n",
       "    .dataframe thead th {\n",
       "        text-align: right;\n",
       "    }\n",
       "</style>\n",
       "<table border=\"1\" class=\"dataframe\">\n",
       "  <thead>\n",
       "    <tr style=\"text-align: right;\">\n",
       "      <th></th>\n",
       "      <th>0</th>\n",
       "      <th>1</th>\n",
       "      <th>2</th>\n",
       "      <th>3</th>\n",
       "      <th>4</th>\n",
       "      <th>5</th>\n",
       "      <th>6</th>\n",
       "      <th>7</th>\n",
       "      <th>8</th>\n",
       "      <th>9</th>\n",
       "      <th>...</th>\n",
       "      <th>758</th>\n",
       "      <th>759</th>\n",
       "      <th>760</th>\n",
       "      <th>761</th>\n",
       "      <th>762</th>\n",
       "      <th>763</th>\n",
       "      <th>764</th>\n",
       "      <th>765</th>\n",
       "      <th>766</th>\n",
       "      <th>767</th>\n",
       "    </tr>\n",
       "  </thead>\n",
       "  <tbody>\n",
       "    <tr>\n",
       "      <th>1767</th>\n",
       "      <td>-0.339813</td>\n",
       "      <td>-0.693982</td>\n",
       "      <td>-0.098318</td>\n",
       "      <td>-0.485539</td>\n",
       "      <td>-0.247999</td>\n",
       "      <td>-0.565327</td>\n",
       "      <td>0.142396</td>\n",
       "      <td>0.583992</td>\n",
       "      <td>0.221362</td>\n",
       "      <td>-0.693478</td>\n",
       "      <td>...</td>\n",
       "      <td>0.242236</td>\n",
       "      <td>0.043161</td>\n",
       "      <td>0.180329</td>\n",
       "      <td>-1.105253</td>\n",
       "      <td>0.050348</td>\n",
       "      <td>0.409863</td>\n",
       "      <td>-0.488179</td>\n",
       "      <td>0.274495</td>\n",
       "      <td>0.965488</td>\n",
       "      <td>0.351016</td>\n",
       "    </tr>\n",
       "    <tr>\n",
       "      <th>8452</th>\n",
       "      <td>-0.758642</td>\n",
       "      <td>-0.296734</td>\n",
       "      <td>-0.486532</td>\n",
       "      <td>-0.379214</td>\n",
       "      <td>0.096235</td>\n",
       "      <td>-0.326066</td>\n",
       "      <td>-0.142484</td>\n",
       "      <td>-0.059484</td>\n",
       "      <td>-0.288032</td>\n",
       "      <td>-0.454609</td>\n",
       "      <td>...</td>\n",
       "      <td>0.199046</td>\n",
       "      <td>-0.614345</td>\n",
       "      <td>-0.687810</td>\n",
       "      <td>-0.815065</td>\n",
       "      <td>0.022151</td>\n",
       "      <td>0.396890</td>\n",
       "      <td>-0.592971</td>\n",
       "      <td>-0.030418</td>\n",
       "      <td>0.793560</td>\n",
       "      <td>0.116338</td>\n",
       "    </tr>\n",
       "    <tr>\n",
       "      <th>4041</th>\n",
       "      <td>-0.277844</td>\n",
       "      <td>-0.242107</td>\n",
       "      <td>0.180446</td>\n",
       "      <td>-0.238190</td>\n",
       "      <td>-0.107133</td>\n",
       "      <td>-0.386096</td>\n",
       "      <td>0.030225</td>\n",
       "      <td>0.436429</td>\n",
       "      <td>-0.044250</td>\n",
       "      <td>-0.545601</td>\n",
       "      <td>...</td>\n",
       "      <td>-0.088723</td>\n",
       "      <td>-0.573039</td>\n",
       "      <td>0.272160</td>\n",
       "      <td>-0.469874</td>\n",
       "      <td>0.145801</td>\n",
       "      <td>-0.055537</td>\n",
       "      <td>-0.388521</td>\n",
       "      <td>-0.135154</td>\n",
       "      <td>-0.157554</td>\n",
       "      <td>0.286825</td>\n",
       "    </tr>\n",
       "  </tbody>\n",
       "</table>\n",
       "<p>3 rows × 768 columns</p>\n",
       "</div>"
      ],
      "text/plain": [
       "           0         1         2         3         4         5         6    \\\n",
       "1767 -0.339813 -0.693982 -0.098318 -0.485539 -0.247999 -0.565327  0.142396   \n",
       "8452 -0.758642 -0.296734 -0.486532 -0.379214  0.096235 -0.326066 -0.142484   \n",
       "4041 -0.277844 -0.242107  0.180446 -0.238190 -0.107133 -0.386096  0.030225   \n",
       "\n",
       "           7         8         9    ...       758       759       760  \\\n",
       "1767  0.583992  0.221362 -0.693478  ...  0.242236  0.043161  0.180329   \n",
       "8452 -0.059484 -0.288032 -0.454609  ...  0.199046 -0.614345 -0.687810   \n",
       "4041  0.436429 -0.044250 -0.545601  ... -0.088723 -0.573039  0.272160   \n",
       "\n",
       "           761       762       763       764       765       766       767  \n",
       "1767 -1.105253  0.050348  0.409863 -0.488179  0.274495  0.965488  0.351016  \n",
       "8452 -0.815065  0.022151  0.396890 -0.592971 -0.030418  0.793560  0.116338  \n",
       "4041 -0.469874  0.145801 -0.055537 -0.388521 -0.135154 -0.157554  0.286825  \n",
       "\n",
       "[3 rows x 768 columns]"
      ]
     },
     "execution_count": 20,
     "metadata": {},
     "output_type": "execute_result"
    }
   ],
   "source": [
    "X_train.head(3)"
   ]
  },
  {
   "cell_type": "markdown",
   "id": "066b0338",
   "metadata": {},
   "source": [
    "Now all our data for the 4 embeddings is converted to a form that makes it easy to train on"
   ]
  },
  {
   "cell_type": "markdown",
   "id": "342b7871",
   "metadata": {},
   "source": [
    "### Training"
   ]
  },
  {
   "cell_type": "markdown",
   "id": "af6dfa37",
   "metadata": {},
   "source": [
    "For this project, we use Random Forest, SVM, and Logistic Regression models on each of the 4 embeddings above"
   ]
  },
  {
   "cell_type": "code",
   "execution_count": 21,
   "id": "ad2af8fb",
   "metadata": {},
   "outputs": [],
   "source": [
    "# from sklearn.ensemble import RandomForestClassifier\n",
    "from cuml import RandomForestClassifier\n",
    "# from sklearn.svm import SVC\n",
    "from cuml.svm import SVC\n",
    "# from sklearn.linear_model import LogisticRegression\n",
    "from cuml.linear_model import LogisticRegression\n",
    "from sklearn.metrics import accuracy_score, f1_score"
   ]
  },
  {
   "cell_type": "code",
   "execution_count": 22,
   "id": "5030a316",
   "metadata": {},
   "outputs": [
    {
     "name": "stdout",
     "output_type": "stream",
     "text": [
      "[W] [20:49:09.371332] SVC with the linear kernel can be much faster using the specialized solver provided by LinearSVC. Consider switching to LinearSVC if tranining takes too long.\n"
     ]
    }
   ],
   "source": [
    "rf = RandomForestClassifier()\n",
    "svm = SVC(kernel='linear')\n",
    "lr = LogisticRegression(max_iter=500)"
   ]
  },
  {
   "cell_type": "markdown",
   "id": "c18d78f4",
   "metadata": {},
   "source": [
    "Now, we build a helper function to fit these models to the data and return the accuracy and F1 scores"
   ]
  },
  {
   "cell_type": "code",
   "execution_count": 23,
   "id": "82509157",
   "metadata": {},
   "outputs": [],
   "source": [
    "def get_scores(model, X_train, X_test, y_train, y_test):\n",
    "    model.fit(X_train, y_train)\n",
    "    y_pred = model.predict(X_test)\n",
    "    accuracy = accuracy_score(y_test, y_pred)\n",
    "    f1 = f1_score(y_test, y_pred, average='weighted')\n",
    "    return accuracy, f1"
   ]
  },
  {
   "cell_type": "markdown",
   "id": "5f515c33",
   "metadata": {},
   "source": [
    "Now, testing the train test splits we got from BERT Embeddings on a random model, say Random Forest: "
   ]
  },
  {
   "cell_type": "code",
   "execution_count": 24,
   "id": "a77d36a3",
   "metadata": {},
   "outputs": [
    {
     "data": {
      "text/plain": [
       "(0.9190797302657675, 0.9189388081036821)"
      ]
     },
     "execution_count": 24,
     "metadata": {},
     "output_type": "execute_result"
    }
   ],
   "source": [
    "get_scores(rf, X_train, X_test, y_train, y_test)"
   ]
  },
  {
   "cell_type": "markdown",
   "id": "ef0e276b",
   "metadata": {},
   "source": [
    "The last step is to perform this operation on all the different Embedding and Model combinations. With 4 embeddings and 3 Models, we can expect a total of 12 different scores. To help this, lets make a list of all the different Embeddings, and create a dictionary of model names, and their instantiated values"
   ]
  },
  {
   "cell_type": "code",
   "execution_count": 25,
   "id": "a6bf1303",
   "metadata": {},
   "outputs": [],
   "source": [
    "embeddings_list = df.columns[2:].tolist() #Stores the BERT and Word2Vec Embeddings\n",
    "embeddings_list.extend(['TF-IDF Embeddings', 'Bag of Words Embeddings']) #Adds the other two which weren't present in df"
   ]
  },
  {
   "cell_type": "code",
   "execution_count": 26,
   "id": "00a8b0d3",
   "metadata": {},
   "outputs": [
    {
     "data": {
      "text/plain": [
       "['BERT Embeddings',\n",
       " 'Word2Vec Embeddings',\n",
       " 'TF-IDF Embeddings',\n",
       " 'Bag of Words Embeddings']"
      ]
     },
     "execution_count": 26,
     "metadata": {},
     "output_type": "execute_result"
    }
   ],
   "source": [
    "embeddings_list"
   ]
  },
  {
   "cell_type": "code",
   "execution_count": 27,
   "id": "80e8cbe3",
   "metadata": {},
   "outputs": [],
   "source": [
    "models = {'Random Forest':rf, 'SVM':svm, 'Logistic Regression':lr}"
   ]
  },
  {
   "cell_type": "code",
   "execution_count": 28,
   "id": "8f0c443d",
   "metadata": {},
   "outputs": [
    {
     "name": "stdout",
     "output_type": "stream",
     "text": [
      "Accuracy with BERT Embeddings trained on Random Forest model: 0.9190797302657675\n",
      "F1 Score with BERT Embeddings trained on Random Forest model: 0.9189388081036821\n",
      "\n",
      "\n",
      "Accuracy with BERT Embeddings trained on SVM model: 0.9139230464101546\n",
      "F1 Score with BERT Embeddings trained on SVM model: 0.9138674538792648\n",
      "\n",
      "\n",
      "[W] [20:49:13.143319] L-BFGS: max iterations reached\n",
      "[W] [20:49:13.143653] Maximum iterations reached before solver is converged. To increase model accuracy you can increase the number of iterations (max_iter) or improve the scaling of the input data.\n",
      "Accuracy with BERT Embeddings trained on Logistic Regression model: 0.9309797699325665\n",
      "F1 Score with BERT Embeddings trained on Logistic Regression model: 0.9309248253458553\n",
      "\n",
      "\n"
     ]
    },
    {
     "name": "stderr",
     "output_type": "stream",
     "text": [
      "/home/rohan/miniconda3/envs/rapids-23.12/lib/python3.10/site-packages/cuml/internals/api_decorators.py:188: UserWarning: To use pickling first train using float32 data to fit the estimator\n",
      "  ret = func(*args, **kwargs)\n"
     ]
    },
    {
     "name": "stdout",
     "output_type": "stream",
     "text": [
      "Accuracy with Word2Vec Embeddings trained on Random Forest model: 0.6049186830622769\n",
      "F1 Score with Word2Vec Embeddings trained on Random Forest model: 0.5761380292377815\n",
      "\n",
      "\n",
      "Accuracy with Word2Vec Embeddings trained on SVM model: 0.5680285600952003\n",
      "F1 Score with Word2Vec Embeddings trained on SVM model: 0.5446355177283161\n",
      "\n",
      "\n",
      "Accuracy with Word2Vec Embeddings trained on Logistic Regression model: 0.5660452201507339\n",
      "F1 Score with Word2Vec Embeddings trained on Logistic Regression model: 0.5441516745178836\n",
      "\n",
      "\n"
     ]
    },
    {
     "name": "stderr",
     "output_type": "stream",
     "text": [
      "/home/rohan/miniconda3/envs/rapids-23.12/lib/python3.10/site-packages/cuml/internals/api_decorators.py:188: UserWarning: To use pickling first train using float32 data to fit the estimator\n",
      "  ret = func(*args, **kwargs)\n"
     ]
    },
    {
     "name": "stdout",
     "output_type": "stream",
     "text": [
      "Accuracy with TF-IDF Embeddings trained on Random Forest model: 0.935739785799286\n",
      "F1 Score with TF-IDF Embeddings trained on Random Forest model: 0.9356581493289282\n",
      "\n",
      "\n",
      "Accuracy with TF-IDF Embeddings trained on SVM model: 0.9412931376437922\n",
      "F1 Score with TF-IDF Embeddings trained on SVM model: 0.9411793905418594\n",
      "\n",
      "\n",
      "Accuracy with TF-IDF Embeddings trained on Logistic Regression model: 0.9393097976993257\n",
      "F1 Score with TF-IDF Embeddings trained on Logistic Regression model: 0.9391977313157056\n",
      "\n",
      "\n"
     ]
    },
    {
     "name": "stderr",
     "output_type": "stream",
     "text": [
      "/home/rohan/miniconda3/envs/rapids-23.12/lib/python3.10/site-packages/cuml/internals/api_decorators.py:188: UserWarning: To use pickling first train using float32 data to fit the estimator\n",
      "  ret = func(*args, **kwargs)\n"
     ]
    },
    {
     "name": "stdout",
     "output_type": "stream",
     "text": [
      "Accuracy with Bag of Words Embeddings trained on Random Forest model: 0.8706862356207854\n",
      "F1 Score with Bag of Words Embeddings trained on Random Forest model: 0.8711962070845715\n",
      "\n",
      "\n",
      "Accuracy with Bag of Words Embeddings trained on SVM model: 0.9365331217770726\n",
      "F1 Score with Bag of Words Embeddings trained on SVM model: 0.9365280133217438\n",
      "\n",
      "\n",
      "Accuracy with Bag of Words Embeddings trained on Logistic Regression model: 0.9254264180880603\n",
      "F1 Score with Bag of Words Embeddings trained on Logistic Regression model: 0.9254047965809473\n",
      "\n",
      "\n"
     ]
    }
   ],
   "source": [
    "acc_scores = []\n",
    "f1_scores = []\n",
    "emb_acc = []\n",
    "emb_f1 = []\n",
    "for embedding in embeddings_list:\n",
    "    X_train, X_test, y_train, y_test = get_splits(embedding)\n",
    "    for model in models:\n",
    "        acc, f1 = get_scores(models[model], X_train, X_test, y_train, y_test)\n",
    "        emb_acc.append(acc)\n",
    "        emb_f1.append(f1)\n",
    "        print(f'Accuracy with {embedding} trained on {model} model: {acc}')\n",
    "        print(f'F1 Score with {embedding} trained on {model} model: {f1}') \n",
    "        print(\"\\n\")\n",
    "    acc_scores.append(emb_acc)\n",
    "    f1_scores.append(emb_f1) #We are storing the values to plot them in a graph later on\n",
    "    emb_acc = []\n",
    "    emb_f1 = [] "
   ]
  },
  {
   "cell_type": "code",
   "execution_count": 31,
   "id": "2a4b056b",
   "metadata": {},
   "outputs": [
    {
     "data": {
      "image/png": "[encoded data removed]",
      "text/plain": [
       "<Figure size 1000x800 with 4 Axes>"
      ]
     },
     "metadata": {},
     "output_type": "display_data"
    }
   ],
   "source": [
    "import matplotlib.pyplot as plt\n",
    "import numpy as np\n",
    "# import cupy as cp\n",
    "\n",
    "bar_width = 0.3\n",
    "\n",
    "fig, axs = plt.subplots(2, 2, figsize=(10, 8))\n",
    "for i in range(2):\n",
    "    for j in range(2):\n",
    "        index = i * 2 + j  \n",
    "        x = np.arange(len(acc_scores[index]))\n",
    "        axs[i, j].bar(x, acc_scores[index], width=bar_width, label='Accuracy', color='indianred')\n",
    "        axs[i, j].bar(x + bar_width, f1_scores[index], width=bar_width, label='F1', color='palegreen') \n",
    "        #Referred stack overflow to get both Accuracy and F1 scores side by side in bar graph\n",
    "        axs[i, j].set_title(embeddings_list[index])\n",
    "        axs[i, j].set_xticks(x + bar_width / 2) \n",
    "        axs[i, j].set_xticklabels(list(models.keys()))\n",
    "        axs[i, j].legend()\n",
    "plt.show()"
   ]
  },
  {
   "cell_type": "code",
   "execution_count": null,
   "id": "1ab29596",
   "metadata": {},
   "outputs": [],
   "source": []
  }
 ],
 "metadata": {
  "kernelspec": {
   "display_name": "Python 3 (ipykernel)",
   "language": "python",
   "name": "python3"
  },
  "language_info": {
   "codemirror_mode": {
    "name": "ipython",
    "version": 3
   },
   "file_extension": ".py",
   "mimetype": "text/x-python",
   "name": "python",
   "nbconvert_exporter": "python",
   "pygments_lexer": "ipython3",
   "version": "3.10.6"
  }
 },
 "nbformat": 4,
 "nbformat_minor": 5
}
